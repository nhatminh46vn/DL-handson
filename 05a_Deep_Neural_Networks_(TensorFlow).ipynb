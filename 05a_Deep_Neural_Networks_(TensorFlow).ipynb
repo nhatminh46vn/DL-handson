{
  "cells": [
    {
      "cell_type": "markdown",
      "metadata": {
        "id": "view-in-github",
        "colab_type": "text"
      },
      "source": [
        "<a href=\"https://colab.research.google.com/github/nhatminh46vn/DL-handson/blob/main/05a_Deep_Neural_Networks_(TensorFlow).ipynb\" target=\"_parent\"><img src=\"https://colab.research.google.com/assets/colab-badge.svg\" alt=\"Open In Colab\"/></a>"
      ]
    },
    {
      "cell_type": "markdown",
      "metadata": {
        "id": "7n2rOP4JelQb"
      },
      "source": [
        "# Deep Learning with TensorFlow\n",
        "\n",
        "Classical machine learning relies on using statistics to determine relationships between features and labels, and can be very effective for creating predictive models. However, a massive growth in the availability of data coupled with advances in the computing technology required to process it has led to the emergence of new machine learning techniques that mimic the way the brain processes information in a structure called an artificial neural network.\n",
        "\n",
        "TensorFlow is a framework for creating machine learning models, including deep neural networks (DNNs). In this example, we'll use Tensorflow to create a simple neural network that classifies penguins into species based on the length and depth of their culmen (bill), their flipper length, and their body mass.\n",
        "\n",
        "> **Citation**: The penguins dataset used in the this exercise is a subset of data collected and made available by [Dr. Kristen\n",
        "Gorman](https://www.uaf.edu/cfos/people/faculty/detail/kristen-gorman.php)\n",
        "and the [Palmer Station, Antarctica LTER](https://pal.lternet.edu/), a\n",
        "member of the [Long Term Ecological Research\n",
        "Network](https://lternet.edu/)."
      ]
    },
    {
      "cell_type": "markdown",
      "metadata": {
        "id": "Lcw9atvAk_eo"
      },
      "source": [
        "## Process of train model\n",
        "\n",
        "The development of model we need to go through those steps:\n",
        "\n",
        "1. Train/test data split\n",
        "2. Build up model architecture\n",
        "3. Initialize the optimizer algorithm\n",
        "4. Train model on train\n",
        "5. Evaluation on test\n",
        "6. Save and use trained model"
      ]
    },
    {
      "cell_type": "markdown",
      "metadata": {
        "id": "IFETJwZll2rE"
      },
      "source": [
        "## Train/test split\n",
        "\n",
        "Before we start using TensorFlow to create a model, let's load the data we need from the Palmer Islands penguins dataset, which contains observations of three different species of penguin.\n",
        "\n",
        "> **Note**: In reality, you can solve the penguin classification problem easily using classical machine learning techniques without the need for a deep learning model; but it's a useful, easy to understand dataset with which to demonstrate the principles of neural networks in this notebook."
      ]
    },
    {
      "cell_type": "code",
      "execution_count": null,
      "metadata": {
        "id": "97_tm5mrl-T8"
      },
      "outputs": [],
      "source": [
        "from google.colab import drive\n",
        "import os\n",
        "\n",
        "drive.mount(\"/content/gdrive\")\n",
        "os.chdir(\"gdrive/MyDrive/Colab Notebooks/DeepLearning/2.Tensorflow\")"
      ]
    },
    {
      "cell_type": "code",
      "execution_count": null,
      "metadata": {
        "colab": {
          "base_uri": "https://localhost:8080/",
          "height": 363
        },
        "id": "5y885kX6elQe",
        "outputId": "3bd14968-242f-49d3-ce2f-e5fda4eed314"
      },
      "outputs": [
        {
          "data": {
            "text/html": [
              "\n",
              "  <div id=\"df-5c78110d-88fd-499c-a574-458effe5ba76\">\n",
              "    <div class=\"colab-df-container\">\n",
              "      <div>\n",
              "<style scoped>\n",
              "    .dataframe tbody tr th:only-of-type {\n",
              "        vertical-align: middle;\n",
              "    }\n",
              "\n",
              "    .dataframe tbody tr th {\n",
              "        vertical-align: top;\n",
              "    }\n",
              "\n",
              "    .dataframe thead th {\n",
              "        text-align: right;\n",
              "    }\n",
              "</style>\n",
              "<table border=\"1\" class=\"dataframe\">\n",
              "  <thead>\n",
              "    <tr style=\"text-align: right;\">\n",
              "      <th></th>\n",
              "      <th>CulmenLength</th>\n",
              "      <th>CulmenDepth</th>\n",
              "      <th>FlipperLength</th>\n",
              "      <th>BodyMass</th>\n",
              "      <th>Species</th>\n",
              "    </tr>\n",
              "  </thead>\n",
              "  <tbody>\n",
              "    <tr>\n",
              "      <th>262</th>\n",
              "      <td>50.5</td>\n",
              "      <td>15.2</td>\n",
              "      <td>21.6</td>\n",
              "      <td>50.00</td>\n",
              "      <td>1</td>\n",
              "    </tr>\n",
              "    <tr>\n",
              "      <th>98</th>\n",
              "      <td>33.1</td>\n",
              "      <td>16.1</td>\n",
              "      <td>17.8</td>\n",
              "      <td>29.00</td>\n",
              "      <td>0</td>\n",
              "    </tr>\n",
              "    <tr>\n",
              "      <th>186</th>\n",
              "      <td>49.1</td>\n",
              "      <td>14.8</td>\n",
              "      <td>22.0</td>\n",
              "      <td>51.50</td>\n",
              "      <td>1</td>\n",
              "    </tr>\n",
              "    <tr>\n",
              "      <th>87</th>\n",
              "      <td>36.9</td>\n",
              "      <td>18.6</td>\n",
              "      <td>18.9</td>\n",
              "      <td>35.00</td>\n",
              "      <td>0</td>\n",
              "    </tr>\n",
              "    <tr>\n",
              "      <th>29</th>\n",
              "      <td>40.5</td>\n",
              "      <td>18.9</td>\n",
              "      <td>18.0</td>\n",
              "      <td>39.50</td>\n",
              "      <td>0</td>\n",
              "    </tr>\n",
              "    <tr>\n",
              "      <th>213</th>\n",
              "      <td>46.2</td>\n",
              "      <td>14.9</td>\n",
              "      <td>22.1</td>\n",
              "      <td>53.00</td>\n",
              "      <td>1</td>\n",
              "    </tr>\n",
              "    <tr>\n",
              "      <th>49</th>\n",
              "      <td>42.3</td>\n",
              "      <td>21.2</td>\n",
              "      <td>19.1</td>\n",
              "      <td>41.50</td>\n",
              "      <td>0</td>\n",
              "    </tr>\n",
              "    <tr>\n",
              "      <th>123</th>\n",
              "      <td>41.4</td>\n",
              "      <td>18.5</td>\n",
              "      <td>20.2</td>\n",
              "      <td>38.75</td>\n",
              "      <td>0</td>\n",
              "    </tr>\n",
              "    <tr>\n",
              "      <th>178</th>\n",
              "      <td>44.5</td>\n",
              "      <td>14.3</td>\n",
              "      <td>21.6</td>\n",
              "      <td>41.00</td>\n",
              "      <td>1</td>\n",
              "    </tr>\n",
              "    <tr>\n",
              "      <th>331</th>\n",
              "      <td>52.2</td>\n",
              "      <td>18.8</td>\n",
              "      <td>19.7</td>\n",
              "      <td>34.50</td>\n",
              "      <td>2</td>\n",
              "    </tr>\n",
              "  </tbody>\n",
              "</table>\n",
              "</div>\n",
              "      <button class=\"colab-df-convert\" onclick=\"convertToInteractive('df-5c78110d-88fd-499c-a574-458effe5ba76')\"\n",
              "              title=\"Convert this dataframe to an interactive table.\"\n",
              "              style=\"display:none;\">\n",
              "        \n",
              "  <svg xmlns=\"http://www.w3.org/2000/svg\" height=\"24px\"viewBox=\"0 0 24 24\"\n",
              "       width=\"24px\">\n",
              "    <path d=\"M0 0h24v24H0V0z\" fill=\"none\"/>\n",
              "    <path d=\"M18.56 5.44l.94 2.06.94-2.06 2.06-.94-2.06-.94-.94-2.06-.94 2.06-2.06.94zm-11 1L8.5 8.5l.94-2.06 2.06-.94-2.06-.94L8.5 2.5l-.94 2.06-2.06.94zm10 10l.94 2.06.94-2.06 2.06-.94-2.06-.94-.94-2.06-.94 2.06-2.06.94z\"/><path d=\"M17.41 7.96l-1.37-1.37c-.4-.4-.92-.59-1.43-.59-.52 0-1.04.2-1.43.59L10.3 9.45l-7.72 7.72c-.78.78-.78 2.05 0 2.83L4 21.41c.39.39.9.59 1.41.59.51 0 1.02-.2 1.41-.59l7.78-7.78 2.81-2.81c.8-.78.8-2.07 0-2.86zM5.41 20L4 18.59l7.72-7.72 1.47 1.35L5.41 20z\"/>\n",
              "  </svg>\n",
              "      </button>\n",
              "      \n",
              "  <style>\n",
              "    .colab-df-container {\n",
              "      display:flex;\n",
              "      flex-wrap:wrap;\n",
              "      gap: 12px;\n",
              "    }\n",
              "\n",
              "    .colab-df-convert {\n",
              "      background-color: #E8F0FE;\n",
              "      border: none;\n",
              "      border-radius: 50%;\n",
              "      cursor: pointer;\n",
              "      display: none;\n",
              "      fill: #1967D2;\n",
              "      height: 32px;\n",
              "      padding: 0 0 0 0;\n",
              "      width: 32px;\n",
              "    }\n",
              "\n",
              "    .colab-df-convert:hover {\n",
              "      background-color: #E2EBFA;\n",
              "      box-shadow: 0px 1px 2px rgba(60, 64, 67, 0.3), 0px 1px 3px 1px rgba(60, 64, 67, 0.15);\n",
              "      fill: #174EA6;\n",
              "    }\n",
              "\n",
              "    [theme=dark] .colab-df-convert {\n",
              "      background-color: #3B4455;\n",
              "      fill: #D2E3FC;\n",
              "    }\n",
              "\n",
              "    [theme=dark] .colab-df-convert:hover {\n",
              "      background-color: #434B5C;\n",
              "      box-shadow: 0px 1px 3px 1px rgba(0, 0, 0, 0.15);\n",
              "      filter: drop-shadow(0px 1px 2px rgba(0, 0, 0, 0.3));\n",
              "      fill: #FFFFFF;\n",
              "    }\n",
              "  </style>\n",
              "\n",
              "      <script>\n",
              "        const buttonEl =\n",
              "          document.querySelector('#df-5c78110d-88fd-499c-a574-458effe5ba76 button.colab-df-convert');\n",
              "        buttonEl.style.display =\n",
              "          google.colab.kernel.accessAllowed ? 'block' : 'none';\n",
              "\n",
              "        async function convertToInteractive(key) {\n",
              "          const element = document.querySelector('#df-5c78110d-88fd-499c-a574-458effe5ba76');\n",
              "          const dataTable =\n",
              "            await google.colab.kernel.invokeFunction('convertToInteractive',\n",
              "                                                     [key], {});\n",
              "          if (!dataTable) return;\n",
              "\n",
              "          const docLinkHtml = 'Like what you see? Visit the ' +\n",
              "            '<a target=\"_blank\" href=https://colab.research.google.com/notebooks/data_table.ipynb>data table notebook</a>'\n",
              "            + ' to learn more about interactive tables.';\n",
              "          element.innerHTML = '';\n",
              "          dataTable['output_type'] = 'display_data';\n",
              "          await google.colab.output.renderOutput(dataTable, element);\n",
              "          const docLink = document.createElement('div');\n",
              "          docLink.innerHTML = docLinkHtml;\n",
              "          element.appendChild(docLink);\n",
              "        }\n",
              "      </script>\n",
              "    </div>\n",
              "  </div>\n",
              "  "
            ],
            "text/plain": [
              "     CulmenLength  CulmenDepth  FlipperLength  BodyMass  Species\n",
              "262          50.5         15.2           21.6     50.00        1\n",
              "98           33.1         16.1           17.8     29.00        0\n",
              "186          49.1         14.8           22.0     51.50        1\n",
              "87           36.9         18.6           18.9     35.00        0\n",
              "29           40.5         18.9           18.0     39.50        0\n",
              "213          46.2         14.9           22.1     53.00        1\n",
              "49           42.3         21.2           19.1     41.50        0\n",
              "123          41.4         18.5           20.2     38.75        0\n",
              "178          44.5         14.3           21.6     41.00        1\n",
              "331          52.2         18.8           19.7     34.50        2"
            ]
          },
          "execution_count": 7,
          "metadata": {},
          "output_type": "execute_result"
        }
      ],
      "source": [
        "import pandas as pd\n",
        "\n",
        "# load the training dataset (excluding rows with null values)\n",
        "penguins = pd.read_csv('../data/penguins.csv').dropna()\n",
        "\n",
        "# Deep Learning models work best when features are on similar scales\n",
        "# In a real solution, we'd implement some custom normalization for each feature, but to keep things simple\n",
        "# we'll just rescale the FlipperLength and BodyMass so they're on a similar scale to the bill measurements\n",
        "penguins['FlipperLength'] = penguins['FlipperLength']/10\n",
        "penguins['BodyMass'] = penguins['BodyMass']/100\n",
        "\n",
        "# The dataset is too small to be useful for deep learning\n",
        "# So we'll oversample it to increase its size\n",
        "for i in range(1,3):\n",
        "    penguins = penguins.append(penguins)\n",
        "\n",
        "# Display a random sample of 10 observations\n",
        "sample = penguins.sample(10)\n",
        "sample"
      ]
    },
    {
      "cell_type": "markdown",
      "metadata": {
        "id": "EEt4K2MkelQf"
      },
      "source": [
        "The **Species** column is the label our model will predict. Each label value represents a class of penguin species, encoded as 0, 1, or 2. The following code shows the actual species to which these class labels corrrespond."
      ]
    },
    {
      "cell_type": "code",
      "execution_count": null,
      "metadata": {
        "colab": {
          "background_save": true,
          "base_uri": "https://localhost:8080/"
        },
        "id": "N1MWUn_jelQg",
        "outputId": "52d8d6c4-09ee-4d8b-eb16-9942989e31bf"
      },
      "outputs": [
        {
          "ename": "NameError",
          "evalue": "ignored",
          "output_type": "error",
          "traceback": [
            "\u001b[0;31m---------------------------------------------------------------------------\u001b[0m",
            "\u001b[0;31mNameError\u001b[0m                                 Traceback (most recent call last)",
            "\u001b[0;32m<ipython-input-1-e3f4432ece72>\u001b[0m in \u001b[0;36m<module>\u001b[0;34m()\u001b[0m\n\u001b[1;32m      1\u001b[0m \u001b[0mpenguin_classes\u001b[0m \u001b[0;34m=\u001b[0m \u001b[0;34m[\u001b[0m\u001b[0;34m'Adelie'\u001b[0m\u001b[0;34m,\u001b[0m \u001b[0;34m'Gentoo'\u001b[0m\u001b[0;34m,\u001b[0m \u001b[0;34m'Chinstrap'\u001b[0m\u001b[0;34m]\u001b[0m\u001b[0;34m\u001b[0m\u001b[0;34m\u001b[0m\u001b[0m\n\u001b[0;32m----> 2\u001b[0;31m \u001b[0mprint\u001b[0m\u001b[0;34m(\u001b[0m\u001b[0msample\u001b[0m\u001b[0;34m.\u001b[0m\u001b[0mcolumns\u001b[0m\u001b[0;34m[\u001b[0m\u001b[0;36m0\u001b[0m\u001b[0;34m:\u001b[0m\u001b[0;36m5\u001b[0m\u001b[0;34m]\u001b[0m\u001b[0;34m.\u001b[0m\u001b[0mvalues\u001b[0m\u001b[0;34m,\u001b[0m \u001b[0;34m'SpeciesName'\u001b[0m\u001b[0;34m)\u001b[0m\u001b[0;34m\u001b[0m\u001b[0;34m\u001b[0m\u001b[0m\n\u001b[0m\u001b[1;32m      3\u001b[0m \u001b[0;32mfor\u001b[0m \u001b[0mindex\u001b[0m\u001b[0;34m,\u001b[0m \u001b[0mrow\u001b[0m \u001b[0;32min\u001b[0m \u001b[0mpenguins\u001b[0m\u001b[0;34m.\u001b[0m\u001b[0msample\u001b[0m\u001b[0;34m(\u001b[0m\u001b[0;36m10\u001b[0m\u001b[0;34m)\u001b[0m\u001b[0;34m.\u001b[0m\u001b[0miterrows\u001b[0m\u001b[0;34m(\u001b[0m\u001b[0;34m)\u001b[0m\u001b[0;34m:\u001b[0m\u001b[0;34m\u001b[0m\u001b[0;34m\u001b[0m\u001b[0m\n\u001b[1;32m      4\u001b[0m     \u001b[0mprint\u001b[0m\u001b[0;34m(\u001b[0m\u001b[0;34m'['\u001b[0m\u001b[0;34m,\u001b[0m\u001b[0mrow\u001b[0m\u001b[0;34m[\u001b[0m\u001b[0;36m0\u001b[0m\u001b[0;34m]\u001b[0m\u001b[0;34m,\u001b[0m \u001b[0mrow\u001b[0m\u001b[0;34m[\u001b[0m\u001b[0;36m1\u001b[0m\u001b[0;34m]\u001b[0m\u001b[0;34m,\u001b[0m \u001b[0mrow\u001b[0m\u001b[0;34m[\u001b[0m\u001b[0;36m2\u001b[0m\u001b[0;34m]\u001b[0m\u001b[0;34m,\u001b[0m\u001b[0mrow\u001b[0m\u001b[0;34m[\u001b[0m\u001b[0;36m3\u001b[0m\u001b[0;34m]\u001b[0m\u001b[0;34m,\u001b[0m \u001b[0mint\u001b[0m\u001b[0;34m(\u001b[0m\u001b[0mrow\u001b[0m\u001b[0;34m[\u001b[0m\u001b[0;36m4\u001b[0m\u001b[0;34m]\u001b[0m\u001b[0;34m)\u001b[0m\u001b[0;34m,\u001b[0m \u001b[0;34m']'\u001b[0m\u001b[0;34m,\u001b[0m\u001b[0mpenguin_classes\u001b[0m\u001b[0;34m[\u001b[0m\u001b[0mint\u001b[0m\u001b[0;34m(\u001b[0m\u001b[0mrow\u001b[0m\u001b[0;34m[\u001b[0m\u001b[0;34m-\u001b[0m\u001b[0;36m1\u001b[0m\u001b[0;34m]\u001b[0m\u001b[0;34m)\u001b[0m\u001b[0;34m]\u001b[0m\u001b[0;34m)\u001b[0m\u001b[0;34m\u001b[0m\u001b[0;34m\u001b[0m\u001b[0m\n",
            "\u001b[0;31mNameError\u001b[0m: name 'sample' is not defined"
          ]
        }
      ],
      "source": [
        "penguin_classes = ['Adelie', 'Gentoo', 'Chinstrap']\n",
        "print(sample.columns[0:5].values, 'SpeciesName')\n",
        "for index, row in penguins.sample(10).iterrows():\n",
        "    print('[',row[0], row[1], row[2],row[3], int(row[4]), ']',penguin_classes[int(row[-1])])"
      ]
    },
    {
      "cell_type": "markdown",
      "metadata": {
        "id": "_FK3w-yRelQg"
      },
      "source": [
        "As is common in a supervised learning problem, we'll split the dataset into a set of records with which to train the model, and a smaller set with which to validate the trained model."
      ]
    },
    {
      "cell_type": "code",
      "execution_count": null,
      "metadata": {
        "colab": {
          "base_uri": "https://localhost:8080/"
        },
        "id": "lwlSgmr6elQg",
        "outputId": "4d063353-b3e9-405d-bb66-f779f47adb50"
      },
      "outputs": [
        {
          "name": "stdout",
          "output_type": "stream",
          "text": [
            "Training Set: 957, Test Set: 411 \n",
            "\n",
            "Sample of features and labels:\n",
            "[52.  18.1 20.1 40.5] 2 (Chinstrap)\n",
            "[46.2 14.5 20.9 48. ] 1 (Gentoo)\n",
            "[45.8 14.6 21.  42. ] 1 (Gentoo)\n",
            "[43.3 13.4 20.9 44. ] 1 (Gentoo)\n",
            "[39.  17.1 19.1 30.5] 0 (Adelie)\n",
            "[49.1  14.5  21.2  46.25] 1 (Gentoo)\n",
            "[51.  18.8 20.3 41. ] 2 (Chinstrap)\n",
            "[48.1 15.1 20.9 55. ] 1 (Gentoo)\n",
            "[46.5 14.8 21.7 52. ] 1 (Gentoo)\n",
            "[45.5 15.  22.  50. ] 1 (Gentoo)\n",
            "[45.2 14.8 21.2 52. ] 1 (Gentoo)\n",
            "[42.2 18.5 18.  35.5] 0 (Adelie)\n",
            "[45.5 13.7 21.4 46.5] 1 (Gentoo)\n",
            "[50.3 20.  19.7 33. ] 2 (Chinstrap)\n",
            "[46.2 14.9 22.1 53. ] 1 (Gentoo)\n",
            "[36.7 18.8 18.7 38. ] 0 (Adelie)\n",
            "[39.  18.7 18.5 36.5] 0 (Adelie)\n",
            "[40.8 18.9 20.8 43. ] 0 (Adelie)\n",
            "[37.9 18.6 17.2 31.5] 0 (Adelie)\n",
            "[45.3 13.8 20.8 42. ] 1 (Gentoo)\n",
            "[41.1 19.1 18.8 41. ] 0 (Adelie)\n",
            "[43.6 13.9 21.7 49. ] 1 (Gentoo)\n",
            "[43.3 13.4 20.9 44. ] 1 (Gentoo)\n",
            "[38.6 17.  18.8 29. ] 0 (Adelie)\n"
          ]
        }
      ],
      "source": [
        "from sklearn.model_selection import train_test_split\n",
        "\n",
        "features = ['CulmenLength','CulmenDepth','FlipperLength','BodyMass']\n",
        "label = 'Species'\n",
        "   \n",
        "# Split data 70%-30% into training set and test set\n",
        "x_train, x_test, y_train, y_test = train_test_split(penguins[features].values, # input variable\n",
        "                                                    penguins[label].values, # output variable\n",
        "                                                    test_size=0.30, # test dataset proportion\n",
        "                                                    stratify=penguins['Species'], # assign equal proportion of target label in train/test \n",
        "                                                    random_state=0) # keep train/test split the same if run again. \n",
        "\n",
        "print ('Training Set: %d, Test Set: %d \\n' % (len(x_train), len(x_test)))\n",
        "print(\"Sample of features and labels:\")\n",
        "\n",
        "# Take a look at the first 25 training features and corresponding labels\n",
        "for n in range(0,24):\n",
        "    print(x_train[n], y_train[n], '(' + penguin_classes[y_train[n]] + ')')"
      ]
    },
    {
      "cell_type": "markdown",
      "metadata": {
        "id": "tXPl3Qv4elQh"
      },
      "source": [
        "The *features* are the measurements for each penguin observation, and the *label* is a numeric value that indicates the species of penguin that the observation represents (Adelie, Gentoo, or Chinstrap).\n",
        "\n",
        "## Install and import TensorFlow libraries\n",
        "\n",
        "Since we plan to use TensorFlow to create our penguin classifier, we'll need to run the following two cells to install and import the libraries we intend to use.\n",
        "\n",
        "> **Note** *Keras* is an abstraction layer over the base TensorFlow API. In most common machine learning scenarios, you can use Keras to simplify your code."
      ]
    },
    {
      "cell_type": "markdown",
      "metadata": {
        "id": "36K_3aLBizcp"
      },
      "source": [
        "Check whether we have tensorflow was installed."
      ]
    },
    {
      "cell_type": "code",
      "execution_count": null,
      "metadata": {
        "colab": {
          "base_uri": "https://localhost:8080/"
        },
        "id": "-OA0GjrPiyvp",
        "outputId": "62cb5c31-c22e-42be-e8cb-85cb00d300d7"
      },
      "outputs": [
        {
          "name": "stdout",
          "output_type": "stream",
          "text": [
            "tensorflow @ file:///tensorflow-2.7.0-cp37-cp37m-linux_x86_64.whl\n",
            "tensorflow-datasets==4.0.1\n",
            "tensorflow-estimator==2.7.0\n",
            "tensorflow-gcs-config==2.7.0\n",
            "tensorflow-hub==0.12.0\n",
            "tensorflow-io-gcs-filesystem==0.22.0\n",
            "tensorflow-metadata==1.4.0\n",
            "tensorflow-probability==0.15.0\n"
          ]
        }
      ],
      "source": [
        "!pip freeze | grep tensorflow"
      ]
    },
    {
      "cell_type": "markdown",
      "metadata": {
        "id": "mSHOSlGljFP0"
      },
      "source": [
        "To install tensorflow, we can use `pip install --upgrade`"
      ]
    },
    {
      "cell_type": "code",
      "execution_count": null,
      "metadata": {
        "id": "SNpx4nFJelQh"
      },
      "outputs": [],
      "source": [
        "# !pip install --upgrade tensorflow"
      ]
    },
    {
      "cell_type": "code",
      "execution_count": null,
      "metadata": {
        "colab": {
          "base_uri": "https://localhost:8080/"
        },
        "id": "r4keKp6BelQi",
        "outputId": "b8ccbc8b-ac3b-42c7-d9f7-ad6b1beb043d"
      },
      "outputs": [
        {
          "name": "stdout",
          "output_type": "stream",
          "text": [
            "Libraries imported.\n",
            "Keras version: 2.7.0\n",
            "TensorFlow version: 2.7.0\n"
          ]
        }
      ],
      "source": [
        "import tensorflow\n",
        "from tensorflow import keras\n",
        "from tensorflow.keras import models\n",
        "from tensorflow.keras.models import Sequential\n",
        "from tensorflow.keras.layers import Dense\n",
        "from tensorflow.keras import utils\n",
        "from tensorflow.keras import optimizers\n",
        "\n",
        "# Set random seed for reproducability\n",
        "tensorflow.random.set_seed(0)\n",
        "\n",
        "print(\"Libraries imported.\")\n",
        "print('Keras version:',keras.__version__)\n",
        "print('TensorFlow version:',tensorflow.__version__)"
      ]
    },
    {
      "cell_type": "markdown",
      "metadata": {
        "id": "tEwRbOH9elQi"
      },
      "source": [
        "## Prepare the data for TensorFlow\n",
        "\n",
        "We've already loaded our data and split it into training and validation datasets. However, we need to do some further data preparation so that our data will work correctly with TensorFlow. Specifically, we need to set the data type of our features to 32-bit floating point numbers, and specify that the labels represent categorical classes rather than numeric values."
      ]
    },
    {
      "cell_type": "code",
      "execution_count": null,
      "metadata": {
        "colab": {
          "base_uri": "https://localhost:8080/"
        },
        "id": "86nHASajelQj",
        "outputId": "bff418ba-38e0-48c4-b729-6b42de7c1525"
      },
      "outputs": [
        {
          "name": "stdout",
          "output_type": "stream",
          "text": [
            "Ready...\n"
          ]
        }
      ],
      "source": [
        "# Set data types for float features\n",
        "x_train = x_train.astype('float32')\n",
        "x_test = x_test.astype('float32')\n",
        "\n",
        "# Set data types for categorical labels\n",
        "y_train = utils.to_categorical(y_train)\n",
        "y_test = utils.to_categorical(y_test)\n",
        "print('Ready...')"
      ]
    },
    {
      "cell_type": "markdown",
      "metadata": {
        "id": "92g9uZy9elQj"
      },
      "source": [
        "## Define a neural network\n",
        "\n",
        "Now we're ready to define our neural network. In this case, we'll create a network that consists of 3 fully-connected layers:\n",
        "* An input layer that receives an input value for each feature (in this case, the four penguin measurements) and applies a *ReLU* activation function.\n",
        "* A hidden layer that receives ten inputs and applies a *ReLU* activation function.\n",
        "* An output layer that uses a *SoftMax* activation function to generate an output for each penguin species (which represent the classification probabilities for each of the three possible penguin species). Softmax functions produce a vector with probability values that sum to 1."
      ]
    },
    {
      "cell_type": "code",
      "execution_count": null,
      "metadata": {
        "colab": {
          "base_uri": "https://localhost:8080/"
        },
        "id": "-7RabcgZelQj",
        "outputId": "dd7d9b8d-4f39-4a4f-90a1-c7f820e329d3"
      },
      "outputs": [
        {
          "name": "stdout",
          "output_type": "stream",
          "text": [
            "Model: \"sequential\"\n",
            "_________________________________________________________________\n",
            " Layer (type)                Output Shape              Param #   \n",
            "=================================================================\n",
            " dense (Dense)               (None, 10)                50        \n",
            "                                                                 \n",
            " dense_1 (Dense)             (None, 10)                110       \n",
            "                                                                 \n",
            " dense_2 (Dense)             (None, 3)                 33        \n",
            "                                                                 \n",
            "=================================================================\n",
            "Total params: 193\n",
            "Trainable params: 193\n",
            "Non-trainable params: 0\n",
            "_________________________________________________________________\n",
            "None\n"
          ]
        }
      ],
      "source": [
        "# Define a classifier network\n",
        "hl = 10 # Number of hidden layer nodes\n",
        "\n",
        "model = Sequential()\n",
        "model.add(Dense(hl, input_dim=len(features), activation='relu'))\n",
        "model.add(Dense(hl, input_dim=hl, activation='relu'))\n",
        "model.add(Dense(len(penguin_classes), input_dim=hl, activation='softmax'))\n",
        "\n",
        "print(model.summary())"
      ]
    },
    {
      "cell_type": "markdown",
      "metadata": {
        "id": "H0SBzua4elQk"
      },
      "source": [
        "## Train the model\n",
        "\n",
        "To train the model, we need to repeatedly feed the training values forward through the network, use a loss function to calculate the loss, use an optimizer to backpropagate the weight and bias value adjustments, and validate the model using the test data we withheld.\n",
        "\n",
        "To do this, we'll apply an Adam optimizer to a categorical cross-entropy loss function iteratively over 50 epochs."
      ]
    },
    {
      "cell_type": "code",
      "execution_count": null,
      "metadata": {
        "colab": {
          "base_uri": "https://localhost:8080/"
        },
        "id": "MkWUwUKkelQk",
        "outputId": "84682e5d-2916-44b6-9574-8dd3031af23d",
        "scrolled": true
      },
      "outputs": [
        {
          "name": "stderr",
          "output_type": "stream",
          "text": [
            "/usr/local/lib/python3.7/dist-packages/keras/optimizer_v2/adam.py:105: UserWarning: The `lr` argument is deprecated, use `learning_rate` instead.\n",
            "  super(Adam, self).__init__(name, **kwargs)\n"
          ]
        },
        {
          "name": "stdout",
          "output_type": "stream",
          "text": [
            "Epoch 1/50\n",
            "96/96 [==============================] - 1s 4ms/step - loss: 24.0677 - accuracy: 0.1985 - val_loss: 11.7056 - val_accuracy: 0.1995\n",
            "Epoch 2/50\n",
            "96/96 [==============================] - 0s 2ms/step - loss: 5.5521 - accuracy: 0.1996 - val_loss: 1.2096 - val_accuracy: 0.2311\n",
            "Epoch 3/50\n",
            "96/96 [==============================] - 0s 3ms/step - loss: 1.1151 - accuracy: 0.3459 - val_loss: 1.0658 - val_accuracy: 0.5255\n",
            "Epoch 4/50\n",
            "96/96 [==============================] - 0s 3ms/step - loss: 0.9290 - accuracy: 0.5831 - val_loss: 0.8632 - val_accuracy: 0.6423\n",
            "Epoch 5/50\n",
            "96/96 [==============================] - 0s 3ms/step - loss: 0.8374 - accuracy: 0.6823 - val_loss: 0.8196 - val_accuracy: 0.7810\n",
            "Epoch 6/50\n",
            "96/96 [==============================] - 0s 3ms/step - loss: 0.7841 - accuracy: 0.7200 - val_loss: 0.7568 - val_accuracy: 0.7445\n",
            "Epoch 7/50\n",
            "96/96 [==============================] - 0s 3ms/step - loss: 0.7369 - accuracy: 0.7492 - val_loss: 0.7123 - val_accuracy: 0.7762\n",
            "Epoch 8/50\n",
            "96/96 [==============================] - 0s 3ms/step - loss: 0.6890 - accuracy: 0.7827 - val_loss: 0.6813 - val_accuracy: 0.7616\n",
            "Epoch 9/50\n",
            "96/96 [==============================] - 0s 3ms/step - loss: 0.6534 - accuracy: 0.7847 - val_loss: 0.6331 - val_accuracy: 0.7835\n",
            "Epoch 10/50\n",
            "96/96 [==============================] - 0s 3ms/step - loss: 0.6055 - accuracy: 0.8307 - val_loss: 0.5871 - val_accuracy: 0.8151\n",
            "Epoch 11/50\n",
            "96/96 [==============================] - 0s 3ms/step - loss: 0.5160 - accuracy: 0.8871 - val_loss: 0.4573 - val_accuracy: 0.9611\n",
            "Epoch 12/50\n",
            "96/96 [==============================] - 0s 2ms/step - loss: 0.4332 - accuracy: 0.9373 - val_loss: 0.4217 - val_accuracy: 0.9611\n",
            "Epoch 13/50\n",
            "96/96 [==============================] - 0s 3ms/step - loss: 0.3794 - accuracy: 0.9478 - val_loss: 0.3660 - val_accuracy: 0.9830\n",
            "Epoch 14/50\n",
            "96/96 [==============================] - 0s 2ms/step - loss: 0.3299 - accuracy: 0.9634 - val_loss: 0.3153 - val_accuracy: 0.9684\n",
            "Epoch 15/50\n",
            "96/96 [==============================] - 0s 3ms/step - loss: 0.2999 - accuracy: 0.9498 - val_loss: 0.2831 - val_accuracy: 0.9684\n",
            "Epoch 16/50\n",
            "96/96 [==============================] - 0s 2ms/step - loss: 0.2568 - accuracy: 0.9666 - val_loss: 0.2438 - val_accuracy: 0.9732\n",
            "Epoch 17/50\n",
            "96/96 [==============================] - 0s 2ms/step - loss: 0.2238 - accuracy: 0.9697 - val_loss: 0.2198 - val_accuracy: 0.9684\n",
            "Epoch 18/50\n",
            "96/96 [==============================] - 0s 3ms/step - loss: 0.1997 - accuracy: 0.9655 - val_loss: 0.1885 - val_accuracy: 0.9805\n",
            "Epoch 19/50\n",
            "96/96 [==============================] - 0s 3ms/step - loss: 0.1786 - accuracy: 0.9687 - val_loss: 0.1888 - val_accuracy: 0.9659\n",
            "Epoch 20/50\n",
            "96/96 [==============================] - 0s 2ms/step - loss: 0.1581 - accuracy: 0.9687 - val_loss: 0.1520 - val_accuracy: 0.9805\n",
            "Epoch 21/50\n",
            "96/96 [==============================] - 0s 2ms/step - loss: 0.1430 - accuracy: 0.9687 - val_loss: 0.1469 - val_accuracy: 0.9830\n",
            "Epoch 22/50\n",
            "96/96 [==============================] - 0s 2ms/step - loss: 0.1327 - accuracy: 0.9666 - val_loss: 0.1257 - val_accuracy: 0.9684\n",
            "Epoch 23/50\n",
            "96/96 [==============================] - 0s 2ms/step - loss: 0.1190 - accuracy: 0.9760 - val_loss: 0.1218 - val_accuracy: 0.9708\n",
            "Epoch 24/50\n",
            "96/96 [==============================] - 0s 2ms/step - loss: 0.1112 - accuracy: 0.9749 - val_loss: 0.1177 - val_accuracy: 0.9659\n",
            "Epoch 25/50\n",
            "96/96 [==============================] - 0s 2ms/step - loss: 0.1065 - accuracy: 0.9718 - val_loss: 0.1102 - val_accuracy: 0.9635\n",
            "Epoch 26/50\n",
            "96/96 [==============================] - 0s 3ms/step - loss: 0.1039 - accuracy: 0.9760 - val_loss: 0.1176 - val_accuracy: 0.9708\n",
            "Epoch 27/50\n",
            "96/96 [==============================] - 0s 3ms/step - loss: 0.0906 - accuracy: 0.9781 - val_loss: 0.0987 - val_accuracy: 0.9708\n",
            "Epoch 28/50\n",
            "96/96 [==============================] - 0s 3ms/step - loss: 0.0848 - accuracy: 0.9770 - val_loss: 0.1014 - val_accuracy: 0.9684\n",
            "Epoch 29/50\n",
            "96/96 [==============================] - 0s 2ms/step - loss: 0.0833 - accuracy: 0.9749 - val_loss: 0.1158 - val_accuracy: 0.9538\n",
            "Epoch 30/50\n",
            "96/96 [==============================] - 0s 3ms/step - loss: 0.0849 - accuracy: 0.9781 - val_loss: 0.0851 - val_accuracy: 0.9805\n",
            "Epoch 31/50\n",
            "96/96 [==============================] - 0s 2ms/step - loss: 0.0779 - accuracy: 0.9843 - val_loss: 0.0850 - val_accuracy: 0.9635\n",
            "Epoch 32/50\n",
            "96/96 [==============================] - 0s 2ms/step - loss: 0.0717 - accuracy: 0.9822 - val_loss: 0.0800 - val_accuracy: 0.9635\n",
            "Epoch 33/50\n",
            "96/96 [==============================] - 0s 2ms/step - loss: 0.0701 - accuracy: 0.9812 - val_loss: 0.0831 - val_accuracy: 0.9878\n",
            "Epoch 34/50\n",
            "96/96 [==============================] - 0s 3ms/step - loss: 0.0651 - accuracy: 0.9864 - val_loss: 0.0678 - val_accuracy: 0.9854\n",
            "Epoch 35/50\n",
            "96/96 [==============================] - 0s 2ms/step - loss: 0.0646 - accuracy: 0.9864 - val_loss: 0.0693 - val_accuracy: 0.9830\n",
            "Epoch 36/50\n",
            "96/96 [==============================] - 0s 2ms/step - loss: 0.0662 - accuracy: 0.9843 - val_loss: 0.0643 - val_accuracy: 0.9878\n",
            "Epoch 37/50\n",
            "96/96 [==============================] - 0s 3ms/step - loss: 0.0609 - accuracy: 0.9885 - val_loss: 0.0652 - val_accuracy: 0.9830\n",
            "Epoch 38/50\n",
            "96/96 [==============================] - 0s 2ms/step - loss: 0.0661 - accuracy: 0.9812 - val_loss: 0.0627 - val_accuracy: 0.9830\n",
            "Epoch 39/50\n",
            "96/96 [==============================] - 0s 2ms/step - loss: 0.0571 - accuracy: 0.9843 - val_loss: 0.0577 - val_accuracy: 0.9878\n",
            "Epoch 40/50\n",
            "96/96 [==============================] - 0s 3ms/step - loss: 0.0543 - accuracy: 0.9864 - val_loss: 0.0563 - val_accuracy: 0.9854\n",
            "Epoch 41/50\n",
            "96/96 [==============================] - 0s 2ms/step - loss: 0.0573 - accuracy: 0.9896 - val_loss: 0.0761 - val_accuracy: 0.9757\n",
            "Epoch 42/50\n",
            "96/96 [==============================] - 0s 2ms/step - loss: 0.0535 - accuracy: 0.9885 - val_loss: 0.0587 - val_accuracy: 0.9878\n",
            "Epoch 43/50\n",
            "96/96 [==============================] - 0s 3ms/step - loss: 0.0488 - accuracy: 0.9906 - val_loss: 0.0543 - val_accuracy: 0.9976\n",
            "Epoch 44/50\n",
            "96/96 [==============================] - 0s 2ms/step - loss: 0.0480 - accuracy: 0.9906 - val_loss: 0.0579 - val_accuracy: 0.9878\n",
            "Epoch 45/50\n",
            "96/96 [==============================] - 0s 3ms/step - loss: 0.0491 - accuracy: 0.9916 - val_loss: 0.0533 - val_accuracy: 0.9878\n",
            "Epoch 46/50\n",
            "96/96 [==============================] - 0s 2ms/step - loss: 0.0486 - accuracy: 0.9843 - val_loss: 0.0485 - val_accuracy: 0.9903\n",
            "Epoch 47/50\n",
            "96/96 [==============================] - 0s 3ms/step - loss: 0.0469 - accuracy: 0.9875 - val_loss: 0.0489 - val_accuracy: 0.9976\n",
            "Epoch 48/50\n",
            "96/96 [==============================] - 0s 3ms/step - loss: 0.0594 - accuracy: 0.9791 - val_loss: 0.0866 - val_accuracy: 0.9708\n",
            "Epoch 49/50\n",
            "96/96 [==============================] - 0s 2ms/step - loss: 0.0500 - accuracy: 0.9854 - val_loss: 0.0537 - val_accuracy: 0.9732\n",
            "Epoch 50/50\n",
            "96/96 [==============================] - 0s 3ms/step - loss: 0.0407 - accuracy: 0.9906 - val_loss: 0.0493 - val_accuracy: 0.9854\n"
          ]
        }
      ],
      "source": [
        "#hyper-parameters for optimizer\n",
        "learning_rate = 0.001\n",
        "opt = optimizers.Adam(lr=learning_rate)\n",
        "\n",
        "model.compile(loss='categorical_crossentropy',\n",
        "              optimizer=opt,\n",
        "              metrics=['accuracy'])\n",
        "\n",
        "# Train the model over 50 epochs using 10-observation batches and using the test holdout dataset for validation\n",
        "num_epochs = 50\n",
        "history = model.fit(x_train, y_train, epochs=num_epochs, batch_size=10, validation_data=(x_test, y_test))"
      ]
    },
    {
      "cell_type": "markdown",
      "metadata": {
        "id": "rYKsmG2delQk"
      },
      "source": [
        "While the training process is running, let's try to understand what's happening:\n",
        "\n",
        "1. In each *epoch*, the full set of training data is passed forward through the network. There are four features for each observation, and four corresponding nodes in the input layer - so the features for each observation are passed as a vector of four values to that layer. However, for efficiency, the feature vectors are grouped into batches; so actually a matrix of multiple feature vectors is fed in each time.\n",
        "2. The matrix of feature values is processed by a function that performs a weighted sum using initialized weights and bias values. The result of this function is then processed by the activation function for the input layer to constrain the values passed to the nodes in the next layer.\n",
        "3. The weighted sum and activation functions are repeated in each layer. Note that the functions operate on vectors and matrices rather than individual scalar values. In other words, the forward pass is essentially a series of nested linear algebra functions. This is the reason data scientists prefer to use computers with graphical processing units (GPUs), since these are optimized for matrix and vector calculations.\n",
        "4. In the final layer of the network, the output vectors contain a probability value for each possible class (in this case, classes 0, 1, and 2). This vector is processed by a *loss function* to determine how far the values calculated by the network are from the actual values - so for example, suppose the output for a Gentoo penguin (class 1) observation is \\[0.3, 0.4, 0.3\\]. The correct prediction should be \\[0.0, 1.0, 0.0\\], so the variance between the predicted and actual values (how far away the each predicted value is from what it should be) is \\[0.3, 0.6, 0.3\\]. This variance is aggregated for each batch and maintained as a running aggregate to calculate the overall level of error (*loss*) incurred by the training data for the epoch. The accuracy (proportion of correct predictions based on the highest probability value in the output vector) for the training data is also calculated.\n",
        "5. At the end of each epoch, the validation data is passed through the network, and its loss and accuracy are also calculated. It's important to do this because it enables us to compare the performance of the model using data on which it was not trained, helping us determine if it will generalize well for new data or if it's *overfitted* to the training data.\n",
        "6. After all the data has been passed forward through the network, the output of the loss function for the *training* data (but <u>not</u> the *validation* data) is passed to the opimizer. The precise details of how the optimizer processes the loss vary depending on the specific optimization algorithm being used; but fundamentally you can think of the entire network, from the input layer to the loss function as being one big nested (*composite*) function. The optimizer applies some differential calculus to calculate *partial derivatives* for the function with respect to each weight and bias value that was used in the network. It's possible to do this efficiently for a nested function due to something called the *chain rule*, which enables you to determine the derivative of a composite function from the derivatives of its inner function and outer functions. You don't really need to worry about the details of the math here (the optimizer does it for you), but the end result is that the partial derivatives tell us about the slope (or *gradient*) of the loss function with respect to each weight and bias value - in other words, we can determine whether to increase or decrease the weight and bias values in order to decrease the loss.\n",
        "7. Having determined in which direction to adjust the weights and biases, the optimizer uses the *learning rate* to determine by how much to adjust them; and then works backwards through the network in a process called *backpropagation* to assign new values to the weights and biases in each layer.\n",
        "8. Now the next epoch repeats the whole training, validation, and backpropagation process starting with the revised weights and biases from the previous epoch - which hopefully will result in a lower level of loss.\n",
        "9. The process continues like this for 50 epochs.\n",
        "\n",
        "## Review training and validation loss\n",
        "\n",
        "After training is complete, we can examine the loss metrics we recorded while training and validating the model. We're really looking for two things:\n",
        "* The loss should reduce with each epoch, showing that the model is learning the right weights and biases to predict the correct labels.\n",
        "* The training loss and validation loss should follow a similar trend, showing that the model is not overfitting to the training data.\n",
        "\n",
        "Let's plot the loss metrics and see:"
      ]
    },
    {
      "cell_type": "code",
      "execution_count": null,
      "metadata": {
        "colab": {
          "base_uri": "https://localhost:8080/",
          "height": 281
        },
        "id": "BUqec0QselQk",
        "outputId": "35548095-67c5-4c4a-8d9b-deb479ac31e5"
      },
      "outputs": [
        {
          "data": {
            "image/png": "[encoded data removed]",
            "text/plain": [
              "<Figure size 432x288 with 1 Axes>"
            ]
          },
          "metadata": {},
          "output_type": "display_data"
        }
      ],
      "source": [
        "%matplotlib inline\n",
        "from matplotlib import pyplot as plt\n",
        "\n",
        "epoch_nums = range(1,num_epochs+1)\n",
        "training_loss = history.history[\"loss\"]\n",
        "validation_loss = history.history[\"val_loss\"]\n",
        "plt.plot(epoch_nums, training_loss)\n",
        "plt.plot(epoch_nums, validation_loss)\n",
        "plt.xlabel('epoch')\n",
        "plt.ylabel('loss')\n",
        "plt.legend(['training', 'validation'], loc='upper right')\n",
        "plt.show()"
      ]
    },
    {
      "cell_type": "markdown",
      "metadata": {
        "id": "qmL7X6TQelQl"
      },
      "source": [
        "## View the learned weights and biases\n",
        "\n",
        "The trained model consists of the final weights and biases that were determined by the optimizer during training. Based on our network model we should expect the following values for each layer:\n",
        "* Layer 1: There are four input values going to ten output nodes, so there should be 4 x 10 weights and 10 bias values.\n",
        "* Layer 2: There are ten input values going to ten output nodes, so there should be 10 x 10 weights and 10 bias values.\n",
        "* Layer 3: There are ten input values going to three output nodes, so there should be 10 x 3 weights and 3 bias values."
      ]
    },
    {
      "cell_type": "code",
      "execution_count": null,
      "metadata": {
        "colab": {
          "base_uri": "https://localhost:8080/"
        },
        "id": "OYkJpufpelQl",
        "outputId": "5c9881e0-62d0-4fe6-ccd5-880e13b25e77"
      },
      "outputs": [
        {
          "name": "stdout",
          "output_type": "stream",
          "text": [
            "------------\n",
            "Weights:\n",
            " [[-0.27236846 -0.3841947   0.24040045  0.08020484 -0.10909867  0.31531608\n",
            "  -0.1961097   0.62134606  0.22264467 -0.4905011 ]\n",
            " [ 0.27471453  0.21265197  0.39706093 -0.17707926 -0.10406601  0.02756169\n",
            "   0.3509058  -0.26049104  0.90269357 -0.5447268 ]\n",
            " [-0.28836262 -0.634329    0.10913564  0.34767175  0.23550075 -0.16398028\n",
            "   0.14662963 -0.7573799  -0.42988792  0.3296095 ]\n",
            " [-0.42851955 -0.24623463 -0.38837776 -0.5230521  -0.43773973  0.19492944\n",
            "  -0.07506406  0.49516746  0.63817036 -0.4691702 ]] \n",
            "Biases:\n",
            " [ 0.          0.         -0.12974362  0.          0.         -0.23719114\n",
            " -0.18983002 -0.31833896  0.3333354   0.        ]\n",
            "------------\n",
            "Weights:\n",
            " [[ 6.0703099e-02 -3.0530828e-01  3.9975524e-01  3.0374891e-01\n",
            "   1.5896738e-01  3.3260167e-02 -5.3190327e-01  4.0915883e-01\n",
            "  -3.3168137e-02 -1.2408230e-01]\n",
            " [ 4.2301047e-01  1.4984506e-01 -5.4566675e-01  3.9191031e-01\n",
            "  -4.2954659e-01  5.0397205e-01 -3.1616646e-01  1.7803025e-01\n",
            "  -4.1518384e-01 -3.8429344e-01]\n",
            " [ 5.3361630e-01  3.7752342e-01 -4.6740755e-01  1.7206895e-01\n",
            "  -4.2156160e-02  5.2979112e-01  1.1615180e+00  5.9770030e-01\n",
            "   8.8137209e-01  1.1893866e-01]\n",
            " [-4.4911027e-02  1.9579428e-01 -2.6655364e-01  1.7358297e-01\n",
            "   3.1120360e-01  5.3520477e-01 -3.1094831e-01 -5.2847219e-01\n",
            "  -9.8198652e-04 -4.4063687e-01]\n",
            " [ 5.1349998e-01  3.9074183e-01  3.9206952e-01 -3.0486345e-02\n",
            "   2.6635468e-02  2.0555359e-01  9.3070030e-02  2.4590033e-01\n",
            "  -4.9007446e-01 -2.9176989e-01]\n",
            " [ 5.3490424e-01 -3.9018619e-01  4.0507901e-01  2.9417115e-01\n",
            "  -2.6569188e-01 -5.3134561e-01  2.5699157e-01 -5.0193194e-02\n",
            "   6.7751713e-02 -8.8485964e-02]\n",
            " [ 2.6545775e-01 -1.9090915e-01 -6.6047966e-02 -3.0627972e-01\n",
            "   1.2806404e-01 -3.8203925e-01 -2.0922501e-01  4.2093679e-01\n",
            "   2.6757482e-01 -3.8393345e-01]\n",
            " [-4.0717494e-01 -2.1495155e-01  4.7269423e-02 -4.6094683e-01\n",
            "  -2.0800981e-01  3.0250531e-01  2.3735015e-02  2.6073375e-01\n",
            "   1.4306782e-01 -4.1476896e-01]\n",
            " [-4.7648513e-01 -4.1763681e-01 -4.3005010e-01 -4.9696004e-01\n",
            "  -2.7225545e-01 -3.8996994e-01 -1.8157804e-01  1.4099248e-01\n",
            "  -1.4351317e-01  3.2991096e-01]\n",
            " [ 3.2320213e-01 -3.0822456e-01 -3.7115166e-01  4.5703936e-01\n",
            "  -3.5191107e-01  2.4120325e-01 -2.0005560e-01  2.3292273e-01\n",
            "  -3.3508268e-01 -5.1532805e-01]] \n",
            "Biases:\n",
            " [ 0.          0.          0.00166569  0.          0.          0.\n",
            " -0.13384652 -0.1272707  -0.25024673  0.29354644]\n",
            "------------\n",
            "Weights:\n",
            " [[-0.4141229   0.32633114 -0.01657408]\n",
            " [ 0.50995994 -0.12620813 -0.6595991 ]\n",
            " [ 0.3346243  -0.1352967   0.05904938]\n",
            " [ 0.54463303 -0.50025463  0.06109887]\n",
            " [ 0.26757038 -0.67376095 -0.18467396]\n",
            " [ 0.08888024 -0.2536324   0.20257705]\n",
            " [ 0.3460398  -0.7147379   0.7692618 ]\n",
            " [-0.24699439  0.35528028  0.04825707]\n",
            " [-0.39355296 -0.2737221   0.57238984]\n",
            " [ 2.504941   -2.6456275  -1.3194146 ]] \n",
            "Biases:\n",
            " [ 0.14721696  1.019591   -0.7348431 ]\n"
          ]
        }
      ],
      "source": [
        "for layer in model.layers:\n",
        "    weights = layer.get_weights()[0]\n",
        "    biases = layer.get_weights()[1]\n",
        "    print('------------\\nWeights:\\n',weights,'\\nBiases:\\n', biases)"
      ]
    },
    {
      "cell_type": "markdown",
      "metadata": {
        "id": "5ZsCEzKielQl"
      },
      "source": [
        "## Evaluate model performance\n",
        "\n",
        "So, is the model any good? The raw accuracy reported from the validation data would seem to indicate that it predicts pretty well; but it's typically useful to dig a little deeper and compare the predictions for each possible class. A common way to visualize the performance of a classification model is to create a *confusion matrix* that shows a crosstab of correct and incorrect predictions for each class."
      ]
    },
    {
      "cell_type": "code",
      "execution_count": null,
      "metadata": {
        "colab": {
          "base_uri": "https://localhost:8080/",
          "height": 322
        },
        "id": "b3TA1wkDelQl",
        "outputId": "0a96a29c-5a75-4186-b20f-ee8c4ff41ca1"
      },
      "outputs": [
        {
          "data": {
            "image/png": "[encoded data removed]",
            "text/plain": [
              "<Figure size 432x288 with 2 Axes>"
            ]
          },
          "metadata": {},
          "output_type": "display_data"
        }
      ],
      "source": [
        "# Tensorflow doesn't have a built-in confusion matrix metric, so we'll use SciKit-Learn\n",
        "import numpy as np\n",
        "from sklearn.metrics import confusion_matrix\n",
        "import matplotlib.pyplot as plt\n",
        "%matplotlib inline\n",
        "\n",
        "\n",
        "class_probabilities = model.predict(x_test)\n",
        "predictions = np.argmax(class_probabilities, axis=1)\n",
        "true_labels = np.argmax(y_test, axis=1)\n",
        "\n",
        "# Plot the confusion matrix\n",
        "cm = confusion_matrix(true_labels, predictions)\n",
        "plt.imshow(cm, interpolation=\"nearest\", cmap=plt.cm.Blues)\n",
        "plt.colorbar()\n",
        "tick_marks = np.arange(len(penguin_classes))\n",
        "plt.xticks(tick_marks, penguin_classes, rotation=85)\n",
        "plt.yticks(tick_marks, penguin_classes)\n",
        "plt.xlabel(\"Predicted Species\")\n",
        "plt.ylabel(\"Actual Species\")\n",
        "plt.show()"
      ]
    },
    {
      "cell_type": "markdown",
      "metadata": {
        "id": "bDOWzxheelQm"
      },
      "source": [
        "The confusion matrix should show a strong diagonal line indicating that there are more correct than incorrect predictions for each class.\n",
        "\n",
        "## Save the trained model\n",
        "Now that we have a model we believe is reasonably accurate, we can save its trained weights for use later."
      ]
    },
    {
      "cell_type": "code",
      "execution_count": null,
      "metadata": {
        "colab": {
          "base_uri": "https://localhost:8080/"
        },
        "id": "43yIfaVEelQm",
        "outputId": "2b17d7a9-c98c-4d63-ffde-dbd4418dcbf2"
      },
      "outputs": [
        {
          "name": "stdout",
          "output_type": "stream",
          "text": [
            "model saved as models/penguin-classifier.h5\n"
          ]
        }
      ],
      "source": [
        "# Save the trained model\n",
        "modelFileName = 'models/penguin-classifier.h5'\n",
        "model.save(modelFileName)\n",
        "del model  # deletes the existing model variable\n",
        "print('model saved as', modelFileName)"
      ]
    },
    {
      "cell_type": "markdown",
      "metadata": {
        "id": "JQqNCZ1KelQm"
      },
      "source": [
        "## Use the trained model\n",
        "\n",
        "When we have a new penguin observation, we can use the model to predict the species."
      ]
    },
    {
      "cell_type": "code",
      "execution_count": null,
      "metadata": {
        "colab": {
          "base_uri": "https://localhost:8080/"
        },
        "id": "hXBSdDsWelQm",
        "outputId": "6a53fecc-664a-4bdf-c560-bbf1c21d9b84"
      },
      "outputs": [
        {
          "name": "stdout",
          "output_type": "stream",
          "text": [
            "New sample: [[50.4 15.3 20.  50. ]]\n",
            "Gentoo\n"
          ]
        }
      ],
      "source": [
        "# Load the saved model\n",
        "model = models.load_model(modelFileName)\n",
        "\n",
        "# CReate a new array of features\n",
        "x_new = np.array([[50.4,15.3,20,50]])\n",
        "print ('New sample: {}'.format(x_new))\n",
        "\n",
        "# Use the model to predict the class\n",
        "class_probabilities = model.predict(x_new)\n",
        "predictions = np.argmax(class_probabilities, axis=1)\n",
        "\n",
        "print(penguin_classes[predictions[0]])"
      ]
    },
    {
      "cell_type": "markdown",
      "metadata": {
        "id": "8RVDVs1CelQm"
      },
      "source": [
        "## Learn more\n",
        "\n",
        "This notebook was designed to help you understand the basic concepts and principles involved in deep neural networks, using a simple Tensorflow example. To learn more about Tensorflow, take a look at the <a href=\"https://www.tensorflow.org/\" target=\"_blank\">Tensorflow web site</a>."
      ]
    }
  ],
  "metadata": {
    "colab": {
      "collapsed_sections": [],
      "name": "05a - Deep Neural Networks (TensorFlow).ipynb",
      "toc_visible": true,
      "provenance": [],
      "include_colab_link": true
    },
    "kernelspec": {
      "display_name": "Python 3.6 - AzureML",
      "language": "python",
      "name": "python3-azureml"
    },
    "language_info": {
      "codemirror_mode": {
        "name": "ipython",
        "version": 3
      },
      "file_extension": ".py",
      "mimetype": "text/x-python",
      "name": "python",
      "nbconvert_exporter": "python",
      "pygments_lexer": "ipython3",
      "version": "3.6.9"
    }
  },
  "nbformat": 4,
  "nbformat_minor": 0
}